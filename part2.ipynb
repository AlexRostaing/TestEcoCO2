{
  "nbformat": 4,
  "nbformat_minor": 0,
  "metadata": {
    "colab": {
      "name": "part2.ipynb",
      "provenance": [],
      "collapsed_sections": [],
      "authorship_tag": "ABX9TyO4Pnts/rWKmcLAc5TUszJJ",
      "include_colab_link": true
    },
    "kernelspec": {
      "name": "python3",
      "display_name": "Python 3"
    }
  },
  "cells": [
    {
      "cell_type": "markdown",
      "metadata": {
        "id": "view-in-github",
        "colab_type": "text"
      },
      "source": [
        "<a href=\"https://colab.research.google.com/github/AlexRostaing/TestEcoCO2/blob/master/part2.ipynb\" target=\"_parent\"><img src=\"https://colab.research.google.com/assets/colab-badge.svg\" alt=\"Open In Colab\"/></a>"
      ]
    },
    {
      "cell_type": "code",
      "metadata": {
        "id": "rNgOITdAkCbR",
        "colab_type": "code",
        "colab": {
          "base_uri": "https://localhost:8080/",
          "height": 548
        },
        "outputId": "12ddcb17-5f34-43bf-f7a3-96f3cacafc14"
      },
      "source": [
        "import requests\n",
        "import pandas as pd\n",
        "from datetime import datetime\n",
        "from matplotlib import pyplot\n",
        "import numpy as np\n",
        "\n",
        "#recuperation des donnees\n",
        "url = \"http://api-recrutement.ecoco2.com/v1/data?start=1483225200&end=1546297201\"\n",
        "response = requests.get(url)\n",
        "original_data = response.json()\n",
        "\n",
        "#transformation des dates en datetime et creation de la table horaire\n",
        "hourly_data = []\n",
        "for i in original_data:\n",
        "    i['datetime'] = datetime.strptime(i['datetime'], \"%Y-%m-%dT%H:%M:%S\")\n",
        "    if i['datetime'].minute == 0:\n",
        "      hourly_data.append(i)\n",
        "\n",
        "#creation du dataframe des donnees d'origine\n",
        "df_original = pd.DataFrame(data=original_data)\n",
        "df_original = df_original.set_index('datetime')\n",
        "#print(df_original)\n",
        "\n",
        "#creation du dataframe des donnees horaires\n",
        "df = pd.DataFrame(data=hourly_data)\n",
        "#ajout des demi-heures avec valeurs vides\n",
        "df = df.set_index('datetime').asfreq('30Min')\n",
        "\n",
        "#interpolation polynomiale\n",
        "interpolated_poly2 = df.interpolate(method='polynomial', order=2)\n",
        "#print(interpolated_poly2)\n",
        "\n",
        "#creation du dataframe des differences entre les donnees d'origine et interpolees\n",
        "df_diff = (df_original - interpolated_poly2).abs()\n",
        "#print(df_diff)\n",
        "\n",
        "#tracage des differences\n",
        "df_diff.plot()\n",
        "pyplot.show\n",
        "\n",
        "#Creation des tableaux de medians\n",
        "\n",
        "#Retourne les intervalles des saisons\n",
        "def getSeasonsDates(x, season):\n",
        "  if season == 'spring':\n",
        "    return {'start':datetime(x,3,22),  'end':datetime(x,6,21)}\n",
        "  elif season == 'summer':\n",
        "    return {'start':datetime(x,6,22),  'end':datetime(x,9,21)}\n",
        "  elif season == 'automn':\n",
        "    return {'start':datetime(x,9,22),  'end':datetime(x,12,21)}\n",
        "\n",
        "#Retourne un dataframe des medianes des saisons et la moyenne des jours ouvres et weekends\n",
        "def getMedians(d):\n",
        "  #tableau vides\n",
        "  co2_winter = []\n",
        "  co2_spring = []\n",
        "  co2_summer = []\n",
        "  co2_automn = []\n",
        "  co2_weekdays = []\n",
        "  co2_weekend = []\n",
        "  #iteration du dataframme pour recuperer les donnees de chaque saison et de jours ouvers et weekends\n",
        "  for i,r in d.iterrows():\n",
        "    if i >= getSeasonsDates(i.year,'spring')['start'] and i <= getSeasonsDates(i.year,'spring')['end']:\n",
        "      co2_spring.append(r['co2_rate'])\n",
        "    elif i >= getSeasonsDates(i.year,'summer')['start'] and i <= getSeasonsDates(i.year,'summer')['end']:\n",
        "      co2_summer.append(r['co2_rate'])\n",
        "    elif i >= getSeasonsDates(i.year,'automn')['start'] and i <= getSeasonsDates(i.year,'automn')['end']:\n",
        "      co2_automn.append(r['co2_rate'])\n",
        "    else:\n",
        "      co2_winter.append(r['co2_rate'])\n",
        "\n",
        "    if i.weekday() >5:\n",
        "      co2_weekend.append(r['co2_rate'])\n",
        "    else:\n",
        "      co2_weekdays.append(r['co2_rate'])\n",
        "\n",
        "  #dictionnaire final contenant les medianes et moyennes\n",
        "  data={'winter median co2 rate':np.median(co2_winter),\n",
        "        'spring median co2 rate':np.median(co2_spring),\n",
        "        'summer median co2 rate':np.median(co2_summer),\n",
        "        'automn median co2 rate':np.median(co2_automn),\n",
        "        'weekdays average co2 rate':(sum(co2_weekdays)/len(co2_weekdays)),\n",
        "        'weekends average co2 rate':(sum(co2_weekend)/len(co2_weekend))}\n",
        "  return pd.DataFrame.from_dict(data, orient='index')\n",
        "\n",
        "#calcul des medianes et moyennes pour les donnees d'origine et interpolees\n",
        "original_medians = getMedians(df_original)\n",
        "print(original_medians)\n",
        "interpolated_medians = getMedians(interpolated_poly2)\n",
        "print(interpolated_medians)"
      ],
      "execution_count": 55,
      "outputs": [
        {
          "output_type": "stream",
          "text": [
            "                                   0\n",
            "winter median co2 rate     39.000000\n",
            "spring median co2 rate     40.000000\n",
            "summer median co2 rate     39.000000\n",
            "automn median co2 rate     40.000000\n",
            "weekdays average co2 rate  39.502183\n",
            "weekends average co2 rate  39.568651\n",
            "                                   0\n",
            "winter median co2 rate     39.599154\n",
            "spring median co2 rate     39.349006\n",
            "summer median co2 rate     39.383562\n",
            "automn median co2 rate     39.769642\n",
            "weekdays average co2 rate  39.486588\n",
            "weekends average co2 rate  39.706944\n"
          ],
          "name": "stdout"
        },
        {
          "output_type": "display_data",
          "data": {
            "image/png": "[encoded data removed]",
            "text/plain": [
              "<Figure size 432x288 with 1 Axes>"
            ]
          },
          "metadata": {
            "tags": [],
            "needs_background": "light"
          }
        }
      ]
    },
    {
      "cell_type": "code",
      "metadata": {
        "id": "YYjEV3L36A57",
        "colab_type": "code",
        "colab": {}
      },
      "source": [
        ""
      ],
      "execution_count": null,
      "outputs": []
    }
  ]
}