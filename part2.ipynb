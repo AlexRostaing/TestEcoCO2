{
  "nbformat": 4,
  "nbformat_minor": 0,
  "metadata": {
    "colab": {
      "name": "part2.ipynb",
      "provenance": [],
      "collapsed_sections": [],
      "authorship_tag": "ABX9TyOZcBTpeBx0k3CPa1xBUyJv",
      "include_colab_link": true
    },
    "kernelspec": {
      "name": "python3",
      "display_name": "Python 3"
    }
  },
  "cells": [
    {
      "cell_type": "markdown",
      "metadata": {
        "id": "view-in-github",
        "colab_type": "text"
      },
      "source": [
        "<a href=\"https://colab.research.google.com/github/AlexRostaing/TestEcoCO2/blob/master/part2.ipynb\" target=\"_parent\"><img src=\"https://colab.research.google.com/assets/colab-badge.svg\" alt=\"Open In Colab\"/></a>"
      ]
    },
    {
      "cell_type": "code",
      "metadata": {
        "id": "rNgOITdAkCbR",
        "colab_type": "code",
        "colab": {
          "base_uri": "https://localhost:8080/",
          "height": 1000
        },
        "outputId": "9b2e7ed8-0e25-4816-a010-7127be6b4ac2"
      },
      "source": [
        "import requests\n",
        "import pandas as pd\n",
        "from datetime import datetime\n",
        "from matplotlib import pyplot\n",
        "\n",
        "url = \"http://api-recrutement.ecoco2.com/v1/data?start=1483225200&end=1546297199\"\n",
        "response = requests.get(url)\n",
        "original_data = response.json()\n",
        "hourly_data = []\n",
        "\n",
        "for i in original_data:\n",
        "    i['datetime'] = datetime.strptime(i['datetime'], \"%Y-%m-%dT%H:%M:%S\")\n",
        "    if i['datetime'].minute == 0:\n",
        "      hourly_data.append(i)\n",
        "\n",
        "df_original = pd.DataFrame(data=original_data)\n",
        "df_original.set_index('datetime')\n",
        "\n",
        "df = pd.DataFrame(data=hourly_data)\n",
        "df = df.set_index('datetime').asfreq('30Min')\n",
        "\n",
        "interpolated_linear = df.interpolate(method='linear')\n",
        "print(interpolated_linear)\n",
        "interpolated_poly2 = df.interpolate(method='polynomial', order=2)\n",
        "interpolated_poly5 = df.interpolate(method='polynomial', order=5)\n",
        "print(interpolated_poly2)\n",
        "print(interpolated_poly5)\n",
        "print(df_original)"
      ],
      "execution_count": null,
      "outputs": [
        {
          "output_type": "stream",
          "text": [
            "                     co2_rate\n",
            "datetime                     \n",
            "2017-01-01 00:00:00      44.0\n",
            "2017-01-01 00:30:00      43.0\n",
            "2017-01-01 01:00:00      42.0\n",
            "2017-01-01 01:30:00      44.0\n",
            "2017-01-01 02:00:00      46.0\n",
            "...                       ...\n",
            "2018-12-31 21:00:00      46.0\n",
            "2018-12-31 21:30:00      43.5\n",
            "2018-12-31 22:00:00      41.0\n",
            "2018-12-31 22:30:00      40.0\n",
            "2018-12-31 23:00:00      39.0\n",
            "\n",
            "[35039 rows x 1 columns]\n",
            "                      co2_rate\n",
            "datetime                      \n",
            "2017-01-01 00:00:00  44.000000\n",
            "2017-01-01 00:30:00  41.902030\n",
            "2017-01-01 01:00:00  42.000000\n",
            "2017-01-01 01:30:00  44.293909\n",
            "2017-01-01 02:00:00  46.000000\n",
            "...                        ...\n",
            "2018-12-31 21:00:00  46.000000\n",
            "2018-12-31 21:30:00  44.676254\n",
            "2018-12-31 22:00:00  41.000000\n",
            "2018-12-31 22:30:00  39.107915\n",
            "2018-12-31 23:00:00  39.000000\n",
            "\n",
            "[35039 rows x 1 columns]\n",
            "                      co2_rate\n",
            "datetime                      \n",
            "2017-01-01 00:00:00  44.000000\n",
            "2017-01-01 00:30:00  33.759377\n",
            "2017-01-01 01:00:00  42.000000\n",
            "2017-01-01 01:30:00  47.476442\n",
            "2017-01-01 02:00:00  46.000000\n",
            "...                        ...\n",
            "2018-12-31 21:00:00  46.000000\n",
            "2018-12-31 21:30:00  46.270978\n",
            "2018-12-31 22:00:00  41.000000\n",
            "2018-12-31 22:30:00  34.653513\n",
            "2018-12-31 23:00:00  39.000000\n",
            "\n",
            "[35039 rows x 1 columns]\n",
            "                 datetime  co2_rate\n",
            "0     2017-01-01 00:00:00        44\n",
            "1     2017-01-01 00:30:00        34\n",
            "2     2017-01-01 01:00:00        42\n",
            "3     2017-01-01 01:30:00        33\n",
            "4     2017-01-01 02:00:00        46\n",
            "...                   ...       ...\n",
            "35035 2018-12-31 21:30:00        32\n",
            "35036 2018-12-31 22:00:00        41\n",
            "35037 2018-12-31 22:30:00        49\n",
            "35038 2018-12-31 23:00:00        39\n",
            "35039 2018-12-31 23:30:00        36\n",
            "\n",
            "[35040 rows x 2 columns]\n"
          ],
          "name": "stdout"
        }
      ]
    }
  ]
}